{
  "cells": [
    {
      "cell_type": "markdown",
      "metadata": {
        "id": "GysvDRntSHZN"
      },
      "source": [
        "# Tarea 2 -  COM4001 Minería de Datos\n",
        "## Profesor: Luis Cossio.\n",
        "## Ayudante: Luis Miranda.\n",
        "---\n",
        "\n",
        "- Nombre: Felipe Coliman, Fabián Ayala\n",
        "- Fecha de Entrega: 09-05-2024\n"
      ]
    },
    {
      "cell_type": "markdown",
      "metadata": {
        "id": "7eI2Ms2FF6Bm"
      },
      "source": [
        "## Objetivos:\n",
        "\n",
        "* Uso de notebooks de Python y entrega de informes basados en esta herramienta.\n",
        "* Introducción a modelos de aprendizaje supervisado.\n",
        "* Uso de estos modelos para hacer clasificación binaria (Entre dos posibles clases).\n",
        "* Comprender como dividir los datos para entrenamiento y prueba de los modelos.\n",
        "* Análisis de métricas de desempeño, comparación y selección del mejor modelo en base a los resultados.\n",
        "* Implementación de un Algortimo de Clasificación."
      ]
    },
    {
      "cell_type": "markdown",
      "metadata": {
        "id": "csfyz6asF6Bn"
      },
      "source": [
        "## Instrucciones:\n",
        "\n",
        "* La tarea a realizar se debe presentar en grupos de **2 personas**, cualquier copia o plagio será sancionada con nota 1.0 a todos los involucrados y con posible sumario.\n",
        "* La tarea consiste en entrenar y probar diferentes modelos de clasificación, para luego probar sus desempeños con métricas especificas, para finalmente seleccionar el mejor modelo y configuración de este, aplicando los conceptos de minería de datos aprendidos en Catedras y Ayudantías. Las soluciones en código y las interpretaciones de resultados deben ir en el mismo notebook donde se va creando el informe y serán evaluadas.\n",
        "* La tarea debe contener una sección de discusión, conclusión y selección del mejor modelo, en base a los resultados obtenidos, sientase libre de explayarse profundamente en este punto.\n",
        "* Se debe agregar una sección de referencias al final de la tarea.\n",
        "* Para la presentación final de la tarea se debe subir su notebook Python en formato .ipynb"
      ]
    },
    {
      "cell_type": "markdown",
      "metadata": {
        "id": "sBr7nu675cuz"
      },
      "source": [
        "## Introducción:\n",
        "### Neutrinos:\n",
        "- Trabajaremos con un set de datos de neutrinos, obtenido de UCI Machine Learning Repository. Los datos utilizados en este experimento se obtuvieron a partir de una muestra de neutrinos producidos por un haz de partículas que incide sobre un blanco. Cada observación en el dataset corresponde a un evento detectado por el detector MiniBooNE. Algunos de los atributos incluyen la energía del neutrino, el ángulo de emisión del neutrino, la energía del evento asociado y la cantidad de energía depositada en diferentes partes del detector. Los neutrinos son partículas subatómicas sin carga eléctrica y muy pequeñas, por lo que pueden viajar a través de la materia sin interactuar con ella en gran medida. Se estima que alrededor de 100 mil millones de neutrinos atraviesan tu cuerpo cada segundo, procedentes principalmente del Sol y de supernovas en otras partes de nuestra galaxia. Aunque son partículas muy comunes, su detección es difícil debido a su falta de interacción con la materia, lo que ha llevado a la construcción de grandes detectores subterráneos para intentar capturarlos.\n",
        "\n",
        "- Tu tarea será constribuir con la detección de estas partículas, construyendo clasificadores binarios capaces de poder discriminar Neutrinos electrónicos  versus Neutrinos muónicos. Debe notar que este dataset está desbalanceado, ya que posee una gran cantidad de datos correspondiente a la clase de Neutrino muónico, por lo que deberá tener en cuenta este hecho cuando analice sus resultados.\n",
        "\n",
        "Puede encontrar mas informacion sobre los dos tipos de Neutrinos a trabajar en los siguientes links:\n",
        "- **Neutrino Electrónico:** https://es.wikipedia.org/wiki/Neutrino_electr%C3%B3nico.\n",
        "- **Neutrino Muónico:** https://es.wikipedia.org/wiki/Neutrino_mu%C3%B3nico)\n",
        "\n",
        "Esta tarea consta de 6 partes principales:\n",
        "\n",
        "1.   **Marco Teórico:** Se deben presentar las definiciones de los conceptos, modelos y métricas usadas durante la tarea.\n",
        "2.   **Carga y Estandarización**: Se debe cargar el set de datos considerando las instrucciones y luego pre procesarlo para su posterior estudio.\n",
        "3.   **Etiquetado y Separación del conjunto de Datos:** Se debe asignar una etiqueta númerica para cada clase y luego separar el set de datos en los conjuntos Entrenamiento y Prueba (No usaremos set de validación).\n",
        "4.   **Construir diferentes modelos de clasificación:** Supervisando el aprendizaje de estos con el set de datos de entrenamiento, cambiando algunos parámetros de los algoritmos, para luego probar su desempeño con el set de datos de prueba.\n",
        "5.   **Métricas de Desempeño:** Se deben utilizar las métricas de desempeño estudiadas para comparar y evaluar los mejores modelos y luego generar un apartado de conclusiones donde haga la selección del mejor algoritmo y su configuración, para resolver este problema, basandose en los resultados obtenidos en esta sección, deberá justificar detalladamente su selección final.\n",
        "6.   **Implementación de KNN desde Cero**: En esta parte usted debe implementar desde cero el algoritmo de clasificacion K-Nearest Neighbors usando las firmas de funciones y estructura sugerida en la tarea, para luego entrenarlo, crear una nueva prediccion y evaluar su desempeño, comparandolo con los resultados del clasificador de sklearn.\n",
        "\n",
        "\n",
        "\n"
      ]
    },
    {
      "cell_type": "code",
      "source": [
        "from google.colab import drive;\n",
        "drive.mount('/content/drive');"
      ],
      "metadata": {
        "colab": {
          "base_uri": "https://localhost:8080/"
        },
        "id": "fTl17wzw8Q0k",
        "outputId": "d8f8cbbf-ef06-40ca-cbf6-babdbcee45e9"
      },
      "execution_count": 2,
      "outputs": [
        {
          "output_type": "stream",
          "name": "stdout",
          "text": [
            "Mounted at /content/drive\n"
          ]
        }
      ]
    },
    {
      "cell_type": "markdown",
      "metadata": {
        "id": "QZnts4xLJD-n"
      },
      "source": [
        "# Parte 1: Marco Teórico\n",
        "Investigue y entregue una definición para los siguientes conceptos:\n",
        "\n",
        "\n",
        "- **Aprendizaje Supervisado**:\n",
        "\n",
        "Cuando hablamos de aprendizaje supervisado nos referimos a un enfoque en el campo del Aprendizaje de Maquina(Machine Learning). El proposito de este algoritmo es aprender a partir de datos que ya estan etiquetados con la respuesta correcta, y luego de que sea entrenado, este sea capaz de predecir la salida para nuevos datos que no ha visto antes.\n",
        "\n",
        "\n",
        "- **Problema de clasificación**:\n",
        "\n",
        "Un problema de clasificación es un tipo de problema de aprendizaje supervisado, y este algoritmo es una técnica que \"aprende\" automáticamente cómo identificar clases/grupos en un conjunto de datos, basado en datos previamente etiquetados.\n",
        "\n",
        "- **Entrenamiento  de  un  clasificador  (describa  los  principales  pasos y requisitos).**\n",
        "\n",
        "Para entrenar un clasificador necesitamos seguir los siguientes pasos:\n",
        "\n",
        "-**Recolección de datos:** Primero que nada, necesitamos recolectar datos que sean relevantes para el problema que querramos resolver. Y estos datos deben estar bien etiquetados.\n",
        "\n",
        "-**Limpieza de datos:** En este paso limpiamos y preparamos los datos para que el modelo pueda trabajar con ellos de manera correcta y eficiente. Con limpiar nos referimos a eliminar datos duplicados, irrelevantes, errores, rellenar o descartar datos que falten. También en este paso podemos normalizar/estandarizar para que todos los datos tengan la misma escala.\n",
        "\n",
        "-**División de datos:** Dividimos los datos en dos grupos: uno para entrenar al modelo y otro para probarlo. Esto para verificar que nuestro modelo realmente aprende y puede generalizar nuevos datos.\n",
        "\n",
        "-**Selección del modelo:** En este paso escogeremos que tipo de algoritmo deseamos utilizar. Tenemos árboles de decisión, maquina de vectores de soporte(VSM), KNN(K-Nearest Neighbors), Naive Bayes, etc. Esta elección va a depender del tipo de problema que se nos presente.\n",
        "\n",
        "-**Entrenamiento del modelo:** Con los datos de entrenamiento, ajustamos los parámetros de nuestro modelo. Modificandolo para que las predicciones realizadas coincidan lo mejor posible con las respuestas reales.\n",
        "\n",
        "-**Evaluación del proyecto:** En este paso, usando el conjunto de datos de prueba, verificamos que tan bien el modelo predice las respuestas y que estas esten correctas. Para así verificar que tan bueno es el modelo o si necesita ajustes/mejoras.\n",
        "\n",
        "\n",
        "Explique como funcionan los siguientes clasificadores:\n",
        "  - **Naive Bayes:**\n",
        "\n",
        "  El clasificador Naive Bayes está basado en el teorema de Bayes, nace de la asunción \"ingenua\" de asumir que no hay correlación entre las variables. Y esto simplifica el cálculo de la relación de variables.\n",
        "\n",
        "  Este clasificador es fácil y rápido predecir la clase de conjunto de datos de prueba. Manteniendo la suposición de independencia.\n",
        "\n",
        "\n",
        "\n",
        "\n",
        "  - **KNN (K-Nearest Neighbors):**\n",
        "\n",
        "Este clasificador compara nuevos ejemplos con respecto al conjunto de entrenamiento. Esto hay que hacerlo de la siguiente manera:\n",
        "\n",
        " 1) Configuramos K.\n",
        "\n",
        " 2) Medimos las distancias.\n",
        "\n",
        " 3) Encontramos los K vecinos más cercanos.\n",
        "\n",
        " 4) Votación para la clasificación.\n",
        "\n",
        "\n",
        "\n",
        "\n",
        "\n",
        "Escriba una definición para las siguientes métricas de desempeño, y luego explique como se construyen matematicamente:\n",
        "  - **Falso positivo, falto negativo, verdadero positivo, verdadero negativo.**\n",
        "\n",
        "  FP(Falso positivo): Esto sucede cuando se predice un evento como positivo, pero en realidad es negativo.\n",
        "\n",
        "  FN(Falso negativo): Esto sucede cuando se predice un evento como negativo, pero en realidad es positivo.\n",
        "\n",
        "  VP(Verdadero positivo): Esto sucede cuando se predice un evento como positivo, y este realmente termina siendo positivo.\n",
        "\n",
        "  VN(Verdadero negativo): Esto sucede cuando se predice un evento como negativo, y este realmente termina siendo negativo.\n",
        "\n",
        "\n",
        "  - **Precision y Recall**\n",
        "\n",
        "**Precision:** Mide la exactitud de las predicciones positivas del modelo.\n",
        "\n",
        "\n",
        " $$precision= TP/ TP + FP$$\n",
        "\n",
        " **Recall:** Mide la proporción de casos positivos que fueron correctamente identificados por el modelo.\n",
        "\n",
        " $$recall = TP/ TP + FN $$\n",
        "\n",
        "  - **Matriz de confusión**\n",
        "\n",
        "  La matriz de confusión es una tabla utilizada para describir el rendimiento de un modelo de clasificación. Muestra la frecuencia de las predicciones divididas en verdaderos positivos, falsos positivos, verdaderos negativos y falsos negativos.\n",
        "\n",
        "\n",
        "  - **Accuracy**\n",
        "\n",
        "La accuracy mide que tan bueno es el modelo al hacer la predicción correcta, contando tanto positivos como negativos. Se calcula como la proporción de predicciones correctas entre el total de casos.\n",
        "\n",
        "$$accuracy = VP + VN / (VP+VN+FP+FN) $$\n",
        "\n",
        "\n",
        "Explique para que sirven los siguientes conjuntos de datos:\n",
        "  - **Conjunto de entrenamiento (train set):**\n",
        "\n",
        "El train set es el conjunto de datos más grande y este usa para entrenar al modelo. En este conjunto debemos enseñarle y darle toda la información necesaria para que aprenda y se pueda adaptar.\n",
        "\n",
        "\n",
        "  - **Conjunto de validación (validation set):**\n",
        "\n",
        "  El validation set se utiliza una vez tu modelo ya está en funcionamiento con lo que aprendió del train set, lo que hace es ver si realmente el modelo esta correctamente funcionando, y si no, lo ayuda a ajustar los parámetros del modelo y escoger la mejor configuración que le va.\n",
        "\n",
        "\n",
        "  - **Conjunto de evaluación (test set):**\n",
        "\n",
        "El test set vendría a ser el que prueba que el modelo esta en perfectas condiciones, con el proposito de empezar a mostrarle datos que nunca haya visto antes, y que estos los pueda clasificar de manera acertada. Aqui es donde podemos ver si nuestro modelo realmente funcionó correctamente.\n"
      ]
    },
    {
      "cell_type": "markdown",
      "metadata": {
        "id": "-4jQFlnaOUXH"
      },
      "source": [
        "# Parte 2"
      ]
    },
    {
      "cell_type": "code",
      "execution_count": 3,
      "metadata": {
        "id": "GVCO3uFpF6Bo"
      },
      "outputs": [],
      "source": [
        "import pandas as pd\n",
        "import numpy as np\n",
        "import matplotlib.pyplot as plt\n",
        "import seaborn as sns\n",
        "from sklearn.naive_bayes import GaussianNB\n",
        "from sklearn.neighbors import KNeighborsClassifier\n",
        "from sklearn.metrics import classification_report, accuracy_score, confusion_matrix\n",
        "from sklearn.model_selection import train_test_split"
      ]
    },
    {
      "cell_type": "markdown",
      "metadata": {
        "id": "yEcErBoIPGmw"
      },
      "source": [
        "## Parte 2.1: Cargar Datos\n",
        "\n",
        "Esta parte consiste en cargar a los datos a utilizar:\n",
        "\n",
        "- Descargue los datos desde Ucampus.\n",
        "\n",
        "- Reviselos. Note que la primera fila corresponde a dos números, el primero es la cantidad de neutrinos electrónicos y el segundo es la cantidad de neutrinos muónicos.\n",
        "\n",
        "- Cargue los archivos a su entorno de trabajo y luego lealos con la función de pandas `read_csv()`, debe notar que la extensión de este archivo es .txt, para poder leer los datos desde un archivo de texto, donde los datos estan separados por espacios en blanco, debe utilizar el siguiente parámetro como separador en la función: `sep='\\s+'`, además este set de datos no tiene nombres de columnas, por lo tanto deberá saltarse la primera fila, que corresponden a las cantidades de neutrinos de cada clase, para esto utilice como parametros de la funcion `read_csv()` los siguientes comandos: `header=None`, `skiprows=1`.\n",
        "\n",
        "**NOTA: No puede modificar el archivo con los datos antes de cargarlo**\n"
      ]
    },
    {
      "cell_type": "code",
      "execution_count": null,
      "metadata": {
        "id": "jkxBio6FIzAO",
        "colab": {
          "base_uri": "https://localhost:8080/",
          "height": 443
        },
        "outputId": "e9b35e5f-1bea-4611-b112-05af5b355bc8"
      },
      "outputs": [
        {
          "output_type": "execute_result",
          "data": {
            "text/plain": [
              "             0         1         2         3         4         5         6   \\\n",
              "0       2.59413  0.468803   20.6916  0.322648  0.009682  0.374393  0.803479   \n",
              "1       3.86388  0.645781   18.1375  0.233529  0.030733  0.361239  1.069740   \n",
              "2       3.38584  1.197140   36.0807  0.200866  0.017341  0.260841  1.108950   \n",
              "3       4.28524  0.510155  674.2010  0.281923  0.009174  0.000000  0.998822   \n",
              "4       5.93662  0.832993   59.8796  0.232853  0.025066  0.233556  1.370040   \n",
              "...         ...       ...       ...       ...       ...       ...       ...   \n",
              "130059  4.80718  1.451020  174.6920  0.343481  0.002174  0.000000  0.747401   \n",
              "130060  5.00527  1.501860  129.9270  0.273477  0.006098  0.109769  1.325370   \n",
              "130061  3.10842  2.178140   56.3651  0.211850  0.000000  0.167382  1.318900   \n",
              "130062  5.44560  1.845700  103.4630  0.287411  0.015929  0.107495  0.679931   \n",
              "130063  4.55062  1.341740   80.0887  0.283594  0.000000  0.176268  0.623019   \n",
              "\n",
              "              7        8         9   ...       40        41        42  \\\n",
              "0       0.896592  3.59665  0.249282  ...  101.174 -31.37300  0.442259   \n",
              "1       0.878714  3.59243  0.200793  ...  186.516  45.95970 -0.478507   \n",
              "2       0.884405  3.43159  0.177167  ...  129.931 -11.56080 -0.297008   \n",
              "3       0.823390  3.16382  0.171678  ...  163.978 -18.45860  0.453886   \n",
              "4       0.787424  3.66546  0.174862  ...  229.555  42.96000 -0.975752   \n",
              "...          ...      ...       ...  ...      ...       ...       ...   \n",
              "130059  0.725617  3.18501  0.152208  ...  179.832  -2.74376  0.317051   \n",
              "130060  0.830334  3.40836  0.130794  ...  120.794 -24.72180  0.312652   \n",
              "130061  0.870681  3.43055  0.279588  ...   83.082 -34.31190  0.360148   \n",
              "130062  0.786533  3.47714  0.193390  ...  170.225  16.61940  0.164154   \n",
              "130063  0.843997  3.21611  0.160869  ...  168.217   4.84619 -0.302852   \n",
              "\n",
              "             43        44        45        46        47        48        49  \n",
              "0       5.86453  0.000000  0.090519  0.176909  0.457585  0.071769  0.245996  \n",
              "1       6.11126  0.001182  0.091800 -0.465572  0.935523  0.333613  0.230621  \n",
              "2       8.27204  0.003854  0.141721 -0.210559  1.013450  0.255512  0.180901  \n",
              "3       2.48112  0.000000  0.180938  0.407968  4.341270  0.473081  0.258990  \n",
              "4       2.66109  0.000000  0.170836 -0.814403  4.679490  1.924990  0.253893  \n",
              "...         ...       ...       ...       ...       ...       ...       ...  \n",
              "130059  2.67617  0.000000  0.141958  0.723207  7.446300  3.219320  0.299487  \n",
              "130060  4.16524  0.000000  0.232273  0.141153  1.898750  1.778180  0.258058  \n",
              "130061  8.16491  0.000000  0.124182  0.016155  0.789276  0.730342  0.152876  \n",
              "130062  5.83085  0.000000  0.193383 -0.397099  2.872590  0.819867  0.210619  \n",
              "130063  2.82402  0.000000  0.107446  0.321685  2.647440  0.742709  0.276477  \n",
              "\n",
              "[130064 rows x 50 columns]"
            ],
            "text/html": [
              "\n",
              "  <div id=\"df-38957238-ef58-4e97-b7df-c573bde1492a\" class=\"colab-df-container\">\n",
              "    <div>\n",
              "<style scoped>\n",
              "    .dataframe tbody tr th:only-of-type {\n",
              "        vertical-align: middle;\n",
              "    }\n",
              "\n",
              "    .dataframe tbody tr th {\n",
              "        vertical-align: top;\n",
              "    }\n",
              "\n",
              "    .dataframe thead th {\n",
              "        text-align: right;\n",
              "    }\n",
              "</style>\n",
              "<table border=\"1\" class=\"dataframe\">\n",
              "  <thead>\n",
              "    <tr style=\"text-align: right;\">\n",
              "      <th></th>\n",
              "      <th>0</th>\n",
              "      <th>1</th>\n",
              "      <th>2</th>\n",
              "      <th>3</th>\n",
              "      <th>4</th>\n",
              "      <th>5</th>\n",
              "      <th>6</th>\n",
              "      <th>7</th>\n",
              "      <th>8</th>\n",
              "      <th>9</th>\n",
              "      <th>...</th>\n",
              "      <th>40</th>\n",
              "      <th>41</th>\n",
              "      <th>42</th>\n",
              "      <th>43</th>\n",
              "      <th>44</th>\n",
              "      <th>45</th>\n",
              "      <th>46</th>\n",
              "      <th>47</th>\n",
              "      <th>48</th>\n",
              "      <th>49</th>\n",
              "    </tr>\n",
              "  </thead>\n",
              "  <tbody>\n",
              "    <tr>\n",
              "      <th>0</th>\n",
              "      <td>2.59413</td>\n",
              "      <td>0.468803</td>\n",
              "      <td>20.6916</td>\n",
              "      <td>0.322648</td>\n",
              "      <td>0.009682</td>\n",
              "      <td>0.374393</td>\n",
              "      <td>0.803479</td>\n",
              "      <td>0.896592</td>\n",
              "      <td>3.59665</td>\n",
              "      <td>0.249282</td>\n",
              "      <td>...</td>\n",
              "      <td>101.174</td>\n",
              "      <td>-31.37300</td>\n",
              "      <td>0.442259</td>\n",
              "      <td>5.86453</td>\n",
              "      <td>0.000000</td>\n",
              "      <td>0.090519</td>\n",
              "      <td>0.176909</td>\n",
              "      <td>0.457585</td>\n",
              "      <td>0.071769</td>\n",
              "      <td>0.245996</td>\n",
              "    </tr>\n",
              "    <tr>\n",
              "      <th>1</th>\n",
              "      <td>3.86388</td>\n",
              "      <td>0.645781</td>\n",
              "      <td>18.1375</td>\n",
              "      <td>0.233529</td>\n",
              "      <td>0.030733</td>\n",
              "      <td>0.361239</td>\n",
              "      <td>1.069740</td>\n",
              "      <td>0.878714</td>\n",
              "      <td>3.59243</td>\n",
              "      <td>0.200793</td>\n",
              "      <td>...</td>\n",
              "      <td>186.516</td>\n",
              "      <td>45.95970</td>\n",
              "      <td>-0.478507</td>\n",
              "      <td>6.11126</td>\n",
              "      <td>0.001182</td>\n",
              "      <td>0.091800</td>\n",
              "      <td>-0.465572</td>\n",
              "      <td>0.935523</td>\n",
              "      <td>0.333613</td>\n",
              "      <td>0.230621</td>\n",
              "    </tr>\n",
              "    <tr>\n",
              "      <th>2</th>\n",
              "      <td>3.38584</td>\n",
              "      <td>1.197140</td>\n",
              "      <td>36.0807</td>\n",
              "      <td>0.200866</td>\n",
              "      <td>0.017341</td>\n",
              "      <td>0.260841</td>\n",
              "      <td>1.108950</td>\n",
              "      <td>0.884405</td>\n",
              "      <td>3.43159</td>\n",
              "      <td>0.177167</td>\n",
              "      <td>...</td>\n",
              "      <td>129.931</td>\n",
              "      <td>-11.56080</td>\n",
              "      <td>-0.297008</td>\n",
              "      <td>8.27204</td>\n",
              "      <td>0.003854</td>\n",
              "      <td>0.141721</td>\n",
              "      <td>-0.210559</td>\n",
              "      <td>1.013450</td>\n",
              "      <td>0.255512</td>\n",
              "      <td>0.180901</td>\n",
              "    </tr>\n",
              "    <tr>\n",
              "      <th>3</th>\n",
              "      <td>4.28524</td>\n",
              "      <td>0.510155</td>\n",
              "      <td>674.2010</td>\n",
              "      <td>0.281923</td>\n",
              "      <td>0.009174</td>\n",
              "      <td>0.000000</td>\n",
              "      <td>0.998822</td>\n",
              "      <td>0.823390</td>\n",
              "      <td>3.16382</td>\n",
              "      <td>0.171678</td>\n",
              "      <td>...</td>\n",
              "      <td>163.978</td>\n",
              "      <td>-18.45860</td>\n",
              "      <td>0.453886</td>\n",
              "      <td>2.48112</td>\n",
              "      <td>0.000000</td>\n",
              "      <td>0.180938</td>\n",
              "      <td>0.407968</td>\n",
              "      <td>4.341270</td>\n",
              "      <td>0.473081</td>\n",
              "      <td>0.258990</td>\n",
              "    </tr>\n",
              "    <tr>\n",
              "      <th>4</th>\n",
              "      <td>5.93662</td>\n",
              "      <td>0.832993</td>\n",
              "      <td>59.8796</td>\n",
              "      <td>0.232853</td>\n",
              "      <td>0.025066</td>\n",
              "      <td>0.233556</td>\n",
              "      <td>1.370040</td>\n",
              "      <td>0.787424</td>\n",
              "      <td>3.66546</td>\n",
              "      <td>0.174862</td>\n",
              "      <td>...</td>\n",
              "      <td>229.555</td>\n",
              "      <td>42.96000</td>\n",
              "      <td>-0.975752</td>\n",
              "      <td>2.66109</td>\n",
              "      <td>0.000000</td>\n",
              "      <td>0.170836</td>\n",
              "      <td>-0.814403</td>\n",
              "      <td>4.679490</td>\n",
              "      <td>1.924990</td>\n",
              "      <td>0.253893</td>\n",
              "    </tr>\n",
              "    <tr>\n",
              "      <th>...</th>\n",
              "      <td>...</td>\n",
              "      <td>...</td>\n",
              "      <td>...</td>\n",
              "      <td>...</td>\n",
              "      <td>...</td>\n",
              "      <td>...</td>\n",
              "      <td>...</td>\n",
              "      <td>...</td>\n",
              "      <td>...</td>\n",
              "      <td>...</td>\n",
              "      <td>...</td>\n",
              "      <td>...</td>\n",
              "      <td>...</td>\n",
              "      <td>...</td>\n",
              "      <td>...</td>\n",
              "      <td>...</td>\n",
              "      <td>...</td>\n",
              "      <td>...</td>\n",
              "      <td>...</td>\n",
              "      <td>...</td>\n",
              "      <td>...</td>\n",
              "    </tr>\n",
              "    <tr>\n",
              "      <th>130059</th>\n",
              "      <td>4.80718</td>\n",
              "      <td>1.451020</td>\n",
              "      <td>174.6920</td>\n",
              "      <td>0.343481</td>\n",
              "      <td>0.002174</td>\n",
              "      <td>0.000000</td>\n",
              "      <td>0.747401</td>\n",
              "      <td>0.725617</td>\n",
              "      <td>3.18501</td>\n",
              "      <td>0.152208</td>\n",
              "      <td>...</td>\n",
              "      <td>179.832</td>\n",
              "      <td>-2.74376</td>\n",
              "      <td>0.317051</td>\n",
              "      <td>2.67617</td>\n",
              "      <td>0.000000</td>\n",
              "      <td>0.141958</td>\n",
              "      <td>0.723207</td>\n",
              "      <td>7.446300</td>\n",
              "      <td>3.219320</td>\n",
              "      <td>0.299487</td>\n",
              "    </tr>\n",
              "    <tr>\n",
              "      <th>130060</th>\n",
              "      <td>5.00527</td>\n",
              "      <td>1.501860</td>\n",
              "      <td>129.9270</td>\n",
              "      <td>0.273477</td>\n",
              "      <td>0.006098</td>\n",
              "      <td>0.109769</td>\n",
              "      <td>1.325370</td>\n",
              "      <td>0.830334</td>\n",
              "      <td>3.40836</td>\n",
              "      <td>0.130794</td>\n",
              "      <td>...</td>\n",
              "      <td>120.794</td>\n",
              "      <td>-24.72180</td>\n",
              "      <td>0.312652</td>\n",
              "      <td>4.16524</td>\n",
              "      <td>0.000000</td>\n",
              "      <td>0.232273</td>\n",
              "      <td>0.141153</td>\n",
              "      <td>1.898750</td>\n",
              "      <td>1.778180</td>\n",
              "      <td>0.258058</td>\n",
              "    </tr>\n",
              "    <tr>\n",
              "      <th>130061</th>\n",
              "      <td>3.10842</td>\n",
              "      <td>2.178140</td>\n",
              "      <td>56.3651</td>\n",
              "      <td>0.211850</td>\n",
              "      <td>0.000000</td>\n",
              "      <td>0.167382</td>\n",
              "      <td>1.318900</td>\n",
              "      <td>0.870681</td>\n",
              "      <td>3.43055</td>\n",
              "      <td>0.279588</td>\n",
              "      <td>...</td>\n",
              "      <td>83.082</td>\n",
              "      <td>-34.31190</td>\n",
              "      <td>0.360148</td>\n",
              "      <td>8.16491</td>\n",
              "      <td>0.000000</td>\n",
              "      <td>0.124182</td>\n",
              "      <td>0.016155</td>\n",
              "      <td>0.789276</td>\n",
              "      <td>0.730342</td>\n",
              "      <td>0.152876</td>\n",
              "    </tr>\n",
              "    <tr>\n",
              "      <th>130062</th>\n",
              "      <td>5.44560</td>\n",
              "      <td>1.845700</td>\n",
              "      <td>103.4630</td>\n",
              "      <td>0.287411</td>\n",
              "      <td>0.015929</td>\n",
              "      <td>0.107495</td>\n",
              "      <td>0.679931</td>\n",
              "      <td>0.786533</td>\n",
              "      <td>3.47714</td>\n",
              "      <td>0.193390</td>\n",
              "      <td>...</td>\n",
              "      <td>170.225</td>\n",
              "      <td>16.61940</td>\n",
              "      <td>0.164154</td>\n",
              "      <td>5.83085</td>\n",
              "      <td>0.000000</td>\n",
              "      <td>0.193383</td>\n",
              "      <td>-0.397099</td>\n",
              "      <td>2.872590</td>\n",
              "      <td>0.819867</td>\n",
              "      <td>0.210619</td>\n",
              "    </tr>\n",
              "    <tr>\n",
              "      <th>130063</th>\n",
              "      <td>4.55062</td>\n",
              "      <td>1.341740</td>\n",
              "      <td>80.0887</td>\n",
              "      <td>0.283594</td>\n",
              "      <td>0.000000</td>\n",
              "      <td>0.176268</td>\n",
              "      <td>0.623019</td>\n",
              "      <td>0.843997</td>\n",
              "      <td>3.21611</td>\n",
              "      <td>0.160869</td>\n",
              "      <td>...</td>\n",
              "      <td>168.217</td>\n",
              "      <td>4.84619</td>\n",
              "      <td>-0.302852</td>\n",
              "      <td>2.82402</td>\n",
              "      <td>0.000000</td>\n",
              "      <td>0.107446</td>\n",
              "      <td>0.321685</td>\n",
              "      <td>2.647440</td>\n",
              "      <td>0.742709</td>\n",
              "      <td>0.276477</td>\n",
              "    </tr>\n",
              "  </tbody>\n",
              "</table>\n",
              "<p>130064 rows × 50 columns</p>\n",
              "</div>\n",
              "    <div class=\"colab-df-buttons\">\n",
              "\n",
              "  <div class=\"colab-df-container\">\n",
              "    <button class=\"colab-df-convert\" onclick=\"convertToInteractive('df-38957238-ef58-4e97-b7df-c573bde1492a')\"\n",
              "            title=\"Convert this dataframe to an interactive table.\"\n",
              "            style=\"display:none;\">\n",
              "\n",
              "  <svg xmlns=\"http://www.w3.org/2000/svg\" height=\"24px\" viewBox=\"0 -960 960 960\">\n",
              "    <path d=\"M120-120v-720h720v720H120Zm60-500h600v-160H180v160Zm220 220h160v-160H400v160Zm0 220h160v-160H400v160ZM180-400h160v-160H180v160Zm440 0h160v-160H620v160ZM180-180h160v-160H180v160Zm440 0h160v-160H620v160Z\"/>\n",
              "  </svg>\n",
              "    </button>\n",
              "\n",
              "  <style>\n",
              "    .colab-df-container {\n",
              "      display:flex;\n",
              "      gap: 12px;\n",
              "    }\n",
              "\n",
              "    .colab-df-convert {\n",
              "      background-color: #E8F0FE;\n",
              "      border: none;\n",
              "      border-radius: 50%;\n",
              "      cursor: pointer;\n",
              "      display: none;\n",
              "      fill: #1967D2;\n",
              "      height: 32px;\n",
              "      padding: 0 0 0 0;\n",
              "      width: 32px;\n",
              "    }\n",
              "\n",
              "    .colab-df-convert:hover {\n",
              "      background-color: #E2EBFA;\n",
              "      box-shadow: 0px 1px 2px rgba(60, 64, 67, 0.3), 0px 1px 3px 1px rgba(60, 64, 67, 0.15);\n",
              "      fill: #174EA6;\n",
              "    }\n",
              "\n",
              "    .colab-df-buttons div {\n",
              "      margin-bottom: 4px;\n",
              "    }\n",
              "\n",
              "    [theme=dark] .colab-df-convert {\n",
              "      background-color: #3B4455;\n",
              "      fill: #D2E3FC;\n",
              "    }\n",
              "\n",
              "    [theme=dark] .colab-df-convert:hover {\n",
              "      background-color: #434B5C;\n",
              "      box-shadow: 0px 1px 3px 1px rgba(0, 0, 0, 0.15);\n",
              "      filter: drop-shadow(0px 1px 2px rgba(0, 0, 0, 0.3));\n",
              "      fill: #FFFFFF;\n",
              "    }\n",
              "  </style>\n",
              "\n",
              "    <script>\n",
              "      const buttonEl =\n",
              "        document.querySelector('#df-38957238-ef58-4e97-b7df-c573bde1492a button.colab-df-convert');\n",
              "      buttonEl.style.display =\n",
              "        google.colab.kernel.accessAllowed ? 'block' : 'none';\n",
              "\n",
              "      async function convertToInteractive(key) {\n",
              "        const element = document.querySelector('#df-38957238-ef58-4e97-b7df-c573bde1492a');\n",
              "        const dataTable =\n",
              "          await google.colab.kernel.invokeFunction('convertToInteractive',\n",
              "                                                    [key], {});\n",
              "        if (!dataTable) return;\n",
              "\n",
              "        const docLinkHtml = 'Like what you see? Visit the ' +\n",
              "          '<a target=\"_blank\" href=https://colab.research.google.com/notebooks/data_table.ipynb>data table notebook</a>'\n",
              "          + ' to learn more about interactive tables.';\n",
              "        element.innerHTML = '';\n",
              "        dataTable['output_type'] = 'display_data';\n",
              "        await google.colab.output.renderOutput(dataTable, element);\n",
              "        const docLink = document.createElement('div');\n",
              "        docLink.innerHTML = docLinkHtml;\n",
              "        element.appendChild(docLink);\n",
              "      }\n",
              "    </script>\n",
              "  </div>\n",
              "\n",
              "\n",
              "<div id=\"df-447ee99f-0821-4bb8-8955-4ce4080c435e\">\n",
              "  <button class=\"colab-df-quickchart\" onclick=\"quickchart('df-447ee99f-0821-4bb8-8955-4ce4080c435e')\"\n",
              "            title=\"Suggest charts\"\n",
              "            style=\"display:none;\">\n",
              "\n",
              "<svg xmlns=\"http://www.w3.org/2000/svg\" height=\"24px\"viewBox=\"0 0 24 24\"\n",
              "     width=\"24px\">\n",
              "    <g>\n",
              "        <path d=\"M19 3H5c-1.1 0-2 .9-2 2v14c0 1.1.9 2 2 2h14c1.1 0 2-.9 2-2V5c0-1.1-.9-2-2-2zM9 17H7v-7h2v7zm4 0h-2V7h2v10zm4 0h-2v-4h2v4z\"/>\n",
              "    </g>\n",
              "</svg>\n",
              "  </button>\n",
              "\n",
              "<style>\n",
              "  .colab-df-quickchart {\n",
              "      --bg-color: #E8F0FE;\n",
              "      --fill-color: #1967D2;\n",
              "      --hover-bg-color: #E2EBFA;\n",
              "      --hover-fill-color: #174EA6;\n",
              "      --disabled-fill-color: #AAA;\n",
              "      --disabled-bg-color: #DDD;\n",
              "  }\n",
              "\n",
              "  [theme=dark] .colab-df-quickchart {\n",
              "      --bg-color: #3B4455;\n",
              "      --fill-color: #D2E3FC;\n",
              "      --hover-bg-color: #434B5C;\n",
              "      --hover-fill-color: #FFFFFF;\n",
              "      --disabled-bg-color: #3B4455;\n",
              "      --disabled-fill-color: #666;\n",
              "  }\n",
              "\n",
              "  .colab-df-quickchart {\n",
              "    background-color: var(--bg-color);\n",
              "    border: none;\n",
              "    border-radius: 50%;\n",
              "    cursor: pointer;\n",
              "    display: none;\n",
              "    fill: var(--fill-color);\n",
              "    height: 32px;\n",
              "    padding: 0;\n",
              "    width: 32px;\n",
              "  }\n",
              "\n",
              "  .colab-df-quickchart:hover {\n",
              "    background-color: var(--hover-bg-color);\n",
              "    box-shadow: 0 1px 2px rgba(60, 64, 67, 0.3), 0 1px 3px 1px rgba(60, 64, 67, 0.15);\n",
              "    fill: var(--button-hover-fill-color);\n",
              "  }\n",
              "\n",
              "  .colab-df-quickchart-complete:disabled,\n",
              "  .colab-df-quickchart-complete:disabled:hover {\n",
              "    background-color: var(--disabled-bg-color);\n",
              "    fill: var(--disabled-fill-color);\n",
              "    box-shadow: none;\n",
              "  }\n",
              "\n",
              "  .colab-df-spinner {\n",
              "    border: 2px solid var(--fill-color);\n",
              "    border-color: transparent;\n",
              "    border-bottom-color: var(--fill-color);\n",
              "    animation:\n",
              "      spin 1s steps(1) infinite;\n",
              "  }\n",
              "\n",
              "  @keyframes spin {\n",
              "    0% {\n",
              "      border-color: transparent;\n",
              "      border-bottom-color: var(--fill-color);\n",
              "      border-left-color: var(--fill-color);\n",
              "    }\n",
              "    20% {\n",
              "      border-color: transparent;\n",
              "      border-left-color: var(--fill-color);\n",
              "      border-top-color: var(--fill-color);\n",
              "    }\n",
              "    30% {\n",
              "      border-color: transparent;\n",
              "      border-left-color: var(--fill-color);\n",
              "      border-top-color: var(--fill-color);\n",
              "      border-right-color: var(--fill-color);\n",
              "    }\n",
              "    40% {\n",
              "      border-color: transparent;\n",
              "      border-right-color: var(--fill-color);\n",
              "      border-top-color: var(--fill-color);\n",
              "    }\n",
              "    60% {\n",
              "      border-color: transparent;\n",
              "      border-right-color: var(--fill-color);\n",
              "    }\n",
              "    80% {\n",
              "      border-color: transparent;\n",
              "      border-right-color: var(--fill-color);\n",
              "      border-bottom-color: var(--fill-color);\n",
              "    }\n",
              "    90% {\n",
              "      border-color: transparent;\n",
              "      border-bottom-color: var(--fill-color);\n",
              "    }\n",
              "  }\n",
              "</style>\n",
              "\n",
              "  <script>\n",
              "    async function quickchart(key) {\n",
              "      const quickchartButtonEl =\n",
              "        document.querySelector('#' + key + ' button');\n",
              "      quickchartButtonEl.disabled = true;  // To prevent multiple clicks.\n",
              "      quickchartButtonEl.classList.add('colab-df-spinner');\n",
              "      try {\n",
              "        const charts = await google.colab.kernel.invokeFunction(\n",
              "            'suggestCharts', [key], {});\n",
              "      } catch (error) {\n",
              "        console.error('Error during call to suggestCharts:', error);\n",
              "      }\n",
              "      quickchartButtonEl.classList.remove('colab-df-spinner');\n",
              "      quickchartButtonEl.classList.add('colab-df-quickchart-complete');\n",
              "    }\n",
              "    (() => {\n",
              "      let quickchartButtonEl =\n",
              "        document.querySelector('#df-447ee99f-0821-4bb8-8955-4ce4080c435e button');\n",
              "      quickchartButtonEl.style.display =\n",
              "        google.colab.kernel.accessAllowed ? 'block' : 'none';\n",
              "    })();\n",
              "  </script>\n",
              "</div>\n",
              "    </div>\n",
              "  </div>\n"
            ],
            "application/vnd.google.colaboratory.intrinsic+json": {
              "type": "dataframe"
            }
          },
          "metadata": {},
          "execution_count": 3
        }
      ],
      "source": [
        "pd.read_csv('/content/drive/My Drive/MiniBoo.txt', sep= '\\s+', header=None, skiprows=1)"
      ]
    },
    {
      "cell_type": "code",
      "source": [
        "#Guardamos nuestros datos en una variable\n",
        "data = pd.read_csv('/content/drive/My Drive/MiniBoo.txt', sep= '\\s+', header=None, skiprows=1)"
      ],
      "metadata": {
        "id": "3tA8VLAJZWOc"
      },
      "execution_count": 4,
      "outputs": []
    },
    {
      "cell_type": "markdown",
      "metadata": {
        "id": "QCDOtJcTTiqE"
      },
      "source": [
        "## Parte 2.2: Pre Procesamiento y categorización del set de datos\n",
        "\n",
        "\n",
        "- Muestre la cantidad de instancias y columnas del dataset.\n",
        "\n",
        "- Use la función de pandas `describe()` para obtener los estadísticos de las columnas del dataset.\n",
        "\n",
        "\n",
        "- A continuación deberá asignar una etiqueta de caracter númerico a cada una de las instancias siguiendo las siguientes instrucciones:\n",
        "    - Cree un vector columna del tamaño de las filas totales del set de datos, luego de aplicar la estandarizacion.\n",
        "    - Para las primeras 36499 posiciones del vector, asigne el valor 1, que corresponde a los Neutrinos electrónicos.\n",
        "    - Para las restantes posiciones del vector, asigne el valor 0, que corresponde a los Neutrinos muónicos.\n",
        "\n",
        "\n",
        "- Al examinar los estadisticos de los datos, se pueden observar valores anomalos (outliers) en los minimos de cada caracteristicas y diferencias notables de escala entre las caracteristicas, por lo tanto deberá quitar los outliers y estandarizar los datos, siguiendo las instrucciones.\n",
        "> 1. Elimine de los datos todos las filas que contengan valores iguales o menores que -999.\n",
        "> 2. Estandarizar los datos utilizando StandardScaler de sklearn."
      ]
    },
    {
      "cell_type": "markdown",
      "source": [
        "**Cantidad de Instancias(filas) y columnas:**"
      ],
      "metadata": {
        "id": "wpWl_bFlYgMu"
      }
    },
    {
      "cell_type": "code",
      "execution_count": null,
      "metadata": {
        "id": "7rMlB5ErF6Bp",
        "colab": {
          "base_uri": "https://localhost:8080/"
        },
        "outputId": "9a67bef4-8eea-4bed-beff-1d2f61dff283"
      },
      "outputs": [
        {
          "output_type": "stream",
          "name": "stdout",
          "text": [
            "Número de instancias (filas): 130064\n",
            "Número de columnas: 50\n"
          ]
        }
      ],
      "source": [
        "print(\"Número de instancias (filas):\", data.shape[0])\n",
        "print(\"Número de columnas:\", data.shape[1])"
      ]
    },
    {
      "cell_type": "markdown",
      "source": [
        "**Use la función de pandas describe() para obtener los estadísticos de las columnas del dataset:**"
      ],
      "metadata": {
        "id": "gEMtJyouaEQ9"
      }
    },
    {
      "cell_type": "code",
      "source": [
        "print(data.describe())"
      ],
      "metadata": {
        "colab": {
          "base_uri": "https://localhost:8080/"
        },
        "id": "UTuZXFOpZ9KI",
        "outputId": "57122883-019c-4063-c443-2e52a2bc99b5"
      },
      "execution_count": null,
      "outputs": [
        {
          "output_type": "stream",
          "name": "stdout",
          "text": [
            "                   0              1              2              3  \\\n",
            "count  130064.000000  130064.000000  130064.000000  130064.000000   \n",
            "mean        1.251799      -2.107551     123.795041      -3.312518   \n",
            "std        60.119987      59.913094     196.010686      59.834554   \n",
            "min      -999.000000    -999.000000    -999.000000    -999.000000   \n",
            "25%         4.012528       0.876346      49.295075       0.241571   \n",
            "50%         4.787715       1.381965     106.135500       0.272089   \n",
            "75%         5.628298       1.947870     138.849250       0.315095   \n",
            "max        17.057300       8.802820    4747.670000       0.736804   \n",
            "\n",
            "                   4              5              6              7  \\\n",
            "count  130064.000000  130064.000000  130064.000000  130064.000000   \n",
            "mean       -3.585353      -3.434412      -2.627901      -2.773691   \n",
            "std        59.818130      59.827325      59.876644      59.866946   \n",
            "min      -999.000000    -999.000000    -999.000000    -999.000000   \n",
            "25%         0.000000       0.085307       0.715269       0.783392   \n",
            "50%         0.004975       0.141175       0.922700       0.833937   \n",
            "75%         0.013136       0.212879       1.180252       0.874198   \n",
            "max         0.179012       0.703859       6.241080       0.989713   \n",
            "\n",
            "                   8              9  ...             41             42  \\\n",
            "count  130064.000000  130064.000000  ...  130064.000000  130064.000000   \n",
            "mean       -0.155680      -3.421357  ...     -25.225963      -2.863924   \n",
            "std        60.024786      59.828000  ...      67.576409      59.873958   \n",
            "min      -999.000000    -999.000000  ...    -999.000000    -999.000000   \n",
            "25%         3.284817       0.142853  ...     -40.068250      -0.028108   \n",
            "50%         3.426990       0.170561  ...     -21.591600       0.459050   \n",
            "75%         3.585462       0.199982  ...      -3.330192       1.150463   \n",
            "max         7.170170       0.524888  ...     161.298000      43.651200   \n",
            "\n",
            "                  43             44             45             46  \\\n",
            "count  130064.000000  130064.000000  130064.000000  130064.000000   \n",
            "mean        2.393149      -3.585605      -3.416491      -3.753232   \n",
            "std        60.349468      59.818121      59.828330      59.816001   \n",
            "min      -999.000000    -999.000000    -999.000000    -999.000000   \n",
            "25%         3.413030       0.000000       0.121963      -0.342814   \n",
            "50%         4.762385       0.000000       0.168528       0.041723   \n",
            "75%         6.857450       0.001984       0.224737       0.294544   \n",
            "max        85.823100       0.446914       0.605667       1.932890   \n",
            "\n",
            "                  47             48             49         labels  \n",
            "count  130064.000000  130064.000000  130064.000000  130064.000000  \n",
            "mean       -0.744964      -1.987056      -3.364752       0.280623  \n",
            "std        60.019330      59.946144      59.831409       0.449306  \n",
            "min      -999.000000    -999.000000    -999.000000       0.000000  \n",
            "25%         1.420265       0.274271       0.197322       0.000000  \n",
            "50%         2.364455       1.123760       0.231328       0.000000  \n",
            "75%         3.777613       2.281242       0.263201       1.000000  \n",
            "max        21.768200      25.423300       0.625484       1.000000  \n",
            "\n",
            "[8 rows x 51 columns]\n"
          ]
        }
      ]
    },
    {
      "cell_type": "markdown",
      "source": [
        "**Punto 3 y 4:**"
      ],
      "metadata": {
        "id": "KVFc4m57AeHm"
      }
    },
    {
      "cell_type": "code",
      "source": [
        "# Crear un vector con etiquetas\n",
        "labels = np.zeros(data.shape[0])  # Todos inicialmente en 0\n",
        "labels[:36499] = 1  # Los primeros 36499 serán 1, representando a los Neutrinos electrónicos\n",
        "\n",
        "# Agregar el vector como columna al DataFrame\n",
        "data['labels'] = labels"
      ],
      "metadata": {
        "id": "XIr5I1PevLPp"
      },
      "execution_count": 5,
      "outputs": []
    },
    {
      "cell_type": "code",
      "source": [
        "from scipy import stats\n",
        "\n",
        "z_scores = np.abs(stats.zscore(data.select_dtypes(include=[np.number])))  # Solo numéricos\n",
        "outliers = (z_scores > 3).any(axis=1)  # Umbral del Z-score\n",
        "\n",
        "# Eliminar outliers\n",
        "data_clean = data[~outliers]\n",
        "#Eliminamos filas con valores <= -999 en cualquiera de sus columnas\n",
        "data_clean = data_clean[~(data_clean <= -999).any(axis=1)]\n"
      ],
      "metadata": {
        "id": "C4MYQ6BbvW6b"
      },
      "execution_count": 6,
      "outputs": []
    },
    {
      "cell_type": "code",
      "source": [
        "from sklearn.preprocessing import StandardScaler\n",
        "\n",
        "# Separar características y etiquetas\n",
        "features = data_clean.drop(columns=['labels'])  # Excluir la columna de etiquetas\n",
        "\n",
        "# Estandarización\n",
        "scaler = StandardScaler()\n",
        "# Aplicamos la transformación y creamos la columna correctamente\n",
        "standard_features = scaler.fit_transform(features)\n",
        "\n",
        "# Convertir datos estandarizados de nuevo a DataFrame\n",
        "standard_df = pd.DataFrame(standard_features, columns=features.columns, index=features.index)\n",
        "# Agregar las etiquetas al DataFrame estandarizado\n",
        "standard_df['labels'] = data_clean['labels'].values"
      ],
      "metadata": {
        "id": "DMdCwby55i6f"
      },
      "execution_count": 7,
      "outputs": []
    },
    {
      "cell_type": "markdown",
      "metadata": {
        "id": "PDn7Pwh1TuSn"
      },
      "source": [
        "# Parte 3\n"
      ]
    },
    {
      "cell_type": "markdown",
      "metadata": {
        "id": "j_x1giVKk3fh"
      },
      "source": [
        "## 3.1 Conjuntos de Entrenamiento y Prueba\n",
        "En esta sección será necesario realizar una separación de los datos, en dos conjuntos que utilizaremos para enseñarle a los diferentes modelos como lucen instancias de las dos categorías de neutrinos y luego probarlos con nuevos datos.\n",
        "\n",
        "Debe hacer la siguiente división con la función `train_test_split()`:\n",
        "\n",
        "- **Entrenamiento: 80%**\n",
        "- **Prueba: 20%**"
      ]
    },
    {
      "cell_type": "code",
      "execution_count": 8,
      "metadata": {
        "id": "Cv-aQ3Wuduje"
      },
      "outputs": [],
      "source": [
        "features = data_clean.drop(columns='labels')\n",
        "labels = data_clean['labels']\n",
        "\n",
        "# Dividir los datos en entrenamiento y prueba\n",
        "X_train, X_test, y_train, y_test = train_test_split(features, labels, test_size=0.20, random_state=42)"
      ]
    },
    {
      "cell_type": "markdown",
      "metadata": {
        "id": "II7wgbgot3KJ"
      },
      "source": [
        "# Parte 4: Modelos de Clasificación\n",
        "\n",
        "En esta sección debe comenzar a construir y entrenar los modelos requeridos para la realización de esta tarea."
      ]
    },
    {
      "cell_type": "markdown",
      "metadata": {
        "id": "boFdrJMgeExr"
      },
      "source": [
        "## Parte 4.1: Naive Bayes\n",
        "\n"
      ]
    },
    {
      "cell_type": "markdown",
      "metadata": {
        "id": "YhyTAsx8eiTv"
      },
      "source": [
        "### (A) GaussianNB\n",
        "\n",
        "Construya y entrene un modelo GaussianNB."
      ]
    },
    {
      "cell_type": "code",
      "execution_count": 17,
      "metadata": {
        "id": "PG1uFlpcf7Bw",
        "colab": {
          "base_uri": "https://localhost:8080/",
          "height": 74
        },
        "outputId": "0e850816-6fab-465e-996e-9c91981ecf13"
      },
      "outputs": [
        {
          "output_type": "execute_result",
          "data": {
            "text/plain": [
              "GaussianNB()"
            ],
            "text/html": [
              "<style>#sk-container-id-4 {color: black;background-color: white;}#sk-container-id-4 pre{padding: 0;}#sk-container-id-4 div.sk-toggleable {background-color: white;}#sk-container-id-4 label.sk-toggleable__label {cursor: pointer;display: block;width: 100%;margin-bottom: 0;padding: 0.3em;box-sizing: border-box;text-align: center;}#sk-container-id-4 label.sk-toggleable__label-arrow:before {content: \"▸\";float: left;margin-right: 0.25em;color: #696969;}#sk-container-id-4 label.sk-toggleable__label-arrow:hover:before {color: black;}#sk-container-id-4 div.sk-estimator:hover label.sk-toggleable__label-arrow:before {color: black;}#sk-container-id-4 div.sk-toggleable__content {max-height: 0;max-width: 0;overflow: hidden;text-align: left;background-color: #f0f8ff;}#sk-container-id-4 div.sk-toggleable__content pre {margin: 0.2em;color: black;border-radius: 0.25em;background-color: #f0f8ff;}#sk-container-id-4 input.sk-toggleable__control:checked~div.sk-toggleable__content {max-height: 200px;max-width: 100%;overflow: auto;}#sk-container-id-4 input.sk-toggleable__control:checked~label.sk-toggleable__label-arrow:before {content: \"▾\";}#sk-container-id-4 div.sk-estimator input.sk-toggleable__control:checked~label.sk-toggleable__label {background-color: #d4ebff;}#sk-container-id-4 div.sk-label input.sk-toggleable__control:checked~label.sk-toggleable__label {background-color: #d4ebff;}#sk-container-id-4 input.sk-hidden--visually {border: 0;clip: rect(1px 1px 1px 1px);clip: rect(1px, 1px, 1px, 1px);height: 1px;margin: -1px;overflow: hidden;padding: 0;position: absolute;width: 1px;}#sk-container-id-4 div.sk-estimator {font-family: monospace;background-color: #f0f8ff;border: 1px dotted black;border-radius: 0.25em;box-sizing: border-box;margin-bottom: 0.5em;}#sk-container-id-4 div.sk-estimator:hover {background-color: #d4ebff;}#sk-container-id-4 div.sk-parallel-item::after {content: \"\";width: 100%;border-bottom: 1px solid gray;flex-grow: 1;}#sk-container-id-4 div.sk-label:hover label.sk-toggleable__label {background-color: #d4ebff;}#sk-container-id-4 div.sk-serial::before {content: \"\";position: absolute;border-left: 1px solid gray;box-sizing: border-box;top: 0;bottom: 0;left: 50%;z-index: 0;}#sk-container-id-4 div.sk-serial {display: flex;flex-direction: column;align-items: center;background-color: white;padding-right: 0.2em;padding-left: 0.2em;position: relative;}#sk-container-id-4 div.sk-item {position: relative;z-index: 1;}#sk-container-id-4 div.sk-parallel {display: flex;align-items: stretch;justify-content: center;background-color: white;position: relative;}#sk-container-id-4 div.sk-item::before, #sk-container-id-4 div.sk-parallel-item::before {content: \"\";position: absolute;border-left: 1px solid gray;box-sizing: border-box;top: 0;bottom: 0;left: 50%;z-index: -1;}#sk-container-id-4 div.sk-parallel-item {display: flex;flex-direction: column;z-index: 1;position: relative;background-color: white;}#sk-container-id-4 div.sk-parallel-item:first-child::after {align-self: flex-end;width: 50%;}#sk-container-id-4 div.sk-parallel-item:last-child::after {align-self: flex-start;width: 50%;}#sk-container-id-4 div.sk-parallel-item:only-child::after {width: 0;}#sk-container-id-4 div.sk-dashed-wrapped {border: 1px dashed gray;margin: 0 0.4em 0.5em 0.4em;box-sizing: border-box;padding-bottom: 0.4em;background-color: white;}#sk-container-id-4 div.sk-label label {font-family: monospace;font-weight: bold;display: inline-block;line-height: 1.2em;}#sk-container-id-4 div.sk-label-container {text-align: center;}#sk-container-id-4 div.sk-container {/* jupyter's `normalize.less` sets `[hidden] { display: none; }` but bootstrap.min.css set `[hidden] { display: none !important; }` so we also need the `!important` here to be able to override the default hidden behavior on the sphinx rendered scikit-learn.org. See: https://github.com/scikit-learn/scikit-learn/issues/21755 */display: inline-block !important;position: relative;}#sk-container-id-4 div.sk-text-repr-fallback {display: none;}</style><div id=\"sk-container-id-4\" class=\"sk-top-container\"><div class=\"sk-text-repr-fallback\"><pre>GaussianNB()</pre><b>In a Jupyter environment, please rerun this cell to show the HTML representation or trust the notebook. <br />On GitHub, the HTML representation is unable to render, please try loading this page with nbviewer.org.</b></div><div class=\"sk-container\" hidden><div class=\"sk-item\"><div class=\"sk-estimator sk-toggleable\"><input class=\"sk-toggleable__control sk-hidden--visually\" id=\"sk-estimator-id-4\" type=\"checkbox\" checked><label for=\"sk-estimator-id-4\" class=\"sk-toggleable__label sk-toggleable__label-arrow\">GaussianNB</label><div class=\"sk-toggleable__content\"><pre>GaussianNB()</pre></div></div></div></div></div>"
            ]
          },
          "metadata": {},
          "execution_count": 17
        }
      ],
      "source": [
        "model_gnb = GaussianNB()\n",
        "\n",
        "# Entrenar el modelo con los datos de entrenamiento\n",
        "model_gnb.fit(X_train, y_train)"
      ]
    },
    {
      "cell_type": "markdown",
      "metadata": {
        "id": "KKvn5Y6lfUzM"
      },
      "source": [
        "## Parte 4.2: KNeighborsClassifier\n"
      ]
    },
    {
      "cell_type": "markdown",
      "metadata": {
        "id": "g0HWbq7hfhcD"
      },
      "source": [
        "### (A) KNeighborsClassifier\n",
        "Construya y entrene 4 modelos KNeighborsClassifier cambiando los siguientes parametros:\n",
        "\n",
        "- n neighbors (Cantidad K de Vecinos)\n",
        "- weights\n"
      ]
    },
    {
      "cell_type": "code",
      "execution_count": 10,
      "metadata": {
        "id": "WmZ57aekf7ke",
        "colab": {
          "base_uri": "https://localhost:8080/",
          "height": 51
        },
        "outputId": "2b6d9e81-d8ff-4bf6-f01a-48df16a12e7a"
      },
      "outputs": [
        {
          "output_type": "execute_result",
          "data": {
            "text/plain": [
              "KNeighborsClassifier(weights='distance')"
            ],
            "text/html": [
              "<style>#sk-container-id-2 {color: black;background-color: white;}#sk-container-id-2 pre{padding: 0;}#sk-container-id-2 div.sk-toggleable {background-color: white;}#sk-container-id-2 label.sk-toggleable__label {cursor: pointer;display: block;width: 100%;margin-bottom: 0;padding: 0.3em;box-sizing: border-box;text-align: center;}#sk-container-id-2 label.sk-toggleable__label-arrow:before {content: \"▸\";float: left;margin-right: 0.25em;color: #696969;}#sk-container-id-2 label.sk-toggleable__label-arrow:hover:before {color: black;}#sk-container-id-2 div.sk-estimator:hover label.sk-toggleable__label-arrow:before {color: black;}#sk-container-id-2 div.sk-toggleable__content {max-height: 0;max-width: 0;overflow: hidden;text-align: left;background-color: #f0f8ff;}#sk-container-id-2 div.sk-toggleable__content pre {margin: 0.2em;color: black;border-radius: 0.25em;background-color: #f0f8ff;}#sk-container-id-2 input.sk-toggleable__control:checked~div.sk-toggleable__content {max-height: 200px;max-width: 100%;overflow: auto;}#sk-container-id-2 input.sk-toggleable__control:checked~label.sk-toggleable__label-arrow:before {content: \"▾\";}#sk-container-id-2 div.sk-estimator input.sk-toggleable__control:checked~label.sk-toggleable__label {background-color: #d4ebff;}#sk-container-id-2 div.sk-label input.sk-toggleable__control:checked~label.sk-toggleable__label {background-color: #d4ebff;}#sk-container-id-2 input.sk-hidden--visually {border: 0;clip: rect(1px 1px 1px 1px);clip: rect(1px, 1px, 1px, 1px);height: 1px;margin: -1px;overflow: hidden;padding: 0;position: absolute;width: 1px;}#sk-container-id-2 div.sk-estimator {font-family: monospace;background-color: #f0f8ff;border: 1px dotted black;border-radius: 0.25em;box-sizing: border-box;margin-bottom: 0.5em;}#sk-container-id-2 div.sk-estimator:hover {background-color: #d4ebff;}#sk-container-id-2 div.sk-parallel-item::after {content: \"\";width: 100%;border-bottom: 1px solid gray;flex-grow: 1;}#sk-container-id-2 div.sk-label:hover label.sk-toggleable__label {background-color: #d4ebff;}#sk-container-id-2 div.sk-serial::before {content: \"\";position: absolute;border-left: 1px solid gray;box-sizing: border-box;top: 0;bottom: 0;left: 50%;z-index: 0;}#sk-container-id-2 div.sk-serial {display: flex;flex-direction: column;align-items: center;background-color: white;padding-right: 0.2em;padding-left: 0.2em;position: relative;}#sk-container-id-2 div.sk-item {position: relative;z-index: 1;}#sk-container-id-2 div.sk-parallel {display: flex;align-items: stretch;justify-content: center;background-color: white;position: relative;}#sk-container-id-2 div.sk-item::before, #sk-container-id-2 div.sk-parallel-item::before {content: \"\";position: absolute;border-left: 1px solid gray;box-sizing: border-box;top: 0;bottom: 0;left: 50%;z-index: -1;}#sk-container-id-2 div.sk-parallel-item {display: flex;flex-direction: column;z-index: 1;position: relative;background-color: white;}#sk-container-id-2 div.sk-parallel-item:first-child::after {align-self: flex-end;width: 50%;}#sk-container-id-2 div.sk-parallel-item:last-child::after {align-self: flex-start;width: 50%;}#sk-container-id-2 div.sk-parallel-item:only-child::after {width: 0;}#sk-container-id-2 div.sk-dashed-wrapped {border: 1px dashed gray;margin: 0 0.4em 0.5em 0.4em;box-sizing: border-box;padding-bottom: 0.4em;background-color: white;}#sk-container-id-2 div.sk-label label {font-family: monospace;font-weight: bold;display: inline-block;line-height: 1.2em;}#sk-container-id-2 div.sk-label-container {text-align: center;}#sk-container-id-2 div.sk-container {/* jupyter's `normalize.less` sets `[hidden] { display: none; }` but bootstrap.min.css set `[hidden] { display: none !important; }` so we also need the `!important` here to be able to override the default hidden behavior on the sphinx rendered scikit-learn.org. See: https://github.com/scikit-learn/scikit-learn/issues/21755 */display: inline-block !important;position: relative;}#sk-container-id-2 div.sk-text-repr-fallback {display: none;}</style><div id=\"sk-container-id-2\" class=\"sk-top-container\"><div class=\"sk-text-repr-fallback\"><pre>KNeighborsClassifier(weights=&#x27;distance&#x27;)</pre><b>In a Jupyter environment, please rerun this cell to show the HTML representation or trust the notebook. <br />On GitHub, the HTML representation is unable to render, please try loading this page with nbviewer.org.</b></div><div class=\"sk-container\" hidden><div class=\"sk-item\"><div class=\"sk-estimator sk-toggleable\"><input class=\"sk-toggleable__control sk-hidden--visually\" id=\"sk-estimator-id-2\" type=\"checkbox\" checked><label for=\"sk-estimator-id-2\" class=\"sk-toggleable__label sk-toggleable__label-arrow\">KNeighborsClassifier</label><div class=\"sk-toggleable__content\"><pre>KNeighborsClassifier(weights=&#x27;distance&#x27;)</pre></div></div></div></div></div>"
            ]
          },
          "metadata": {},
          "execution_count": 10
        }
      ],
      "source": [
        "#Creamos modelos con distintas configuraciones\n",
        "modelo1 = KNeighborsClassifier(n_neighbors=3, weights='uniform')\n",
        "modelo2 = KNeighborsClassifier(n_neighbors=3, weights='distance')\n",
        "modelo3 = KNeighborsClassifier(n_neighbors=5, weights='uniform')\n",
        "modelo4 = KNeighborsClassifier(n_neighbors=5, weights='distance')\n",
        "\n",
        "# Entrenar cada modelo con los datos de entrenamiento;\n",
        "modelo1.fit(X_train, y_train)\n",
        "modelo2.fit(X_train, y_train)\n",
        "modelo3.fit(X_train, y_train)\n",
        "modelo4.fit(X_train, y_train)"
      ]
    },
    {
      "cell_type": "markdown",
      "metadata": {
        "id": "oI8p2vxPvj8b"
      },
      "source": [
        "## Parte 5: Métricas de Desempeño\n",
        "\n",
        "En esta sección debes comparar el desempeño de cada uno de los modelos creados, con el conjunto de datos de prueba anteriormente obtenido con la funcion `train_test_split`, esto a traves del estudio de varias métricas comunes de clasificación.\n",
        "\n",
        "Las métricas que se deben utilizar en esta tarea son las siguientes:\n",
        "\n",
        "- Classification_report\n",
        "- Accuracy_score\n",
        "- Confusion_matrix (Genere una visualización de la matriz de confusión)\n",
        "\n",
        "Para realizar la comparación, debes ejecutar cada modelo en el conjunto de datos de prueba y obtener los resultados de cada una de estas métricas. Luego, debes presentar de una forma detallada y ordenada los resultados de cada métrica para cada modelo y que los compares entre sí para determinar cuál modelo tiene el mejor desempeño en este conjunto de datos.\n",
        "\n",
        "- Genere un gráfico comparativo entre los modelos para su Accuracy, Precision y Recall de los clasificadores analizados. Debe ser un gráfico por métrica a comparar (Total 3 Gráficos).\n",
        "\n",
        "\n",
        "Recuerda que debes proporcionar información detallada sobre la configuración de los modelos, el preprocesamiento de los datos y cualquier otra consideración relevante que hayas tomado en cuenta al realizar esta tarea.\n"
      ]
    },
    {
      "cell_type": "markdown",
      "source": [
        "### Métricas de Desempeño **(GaussianNB)**:"
      ],
      "metadata": {
        "id": "gfuecTCcTNrO"
      }
    },
    {
      "cell_type": "code",
      "source": [
        "# Generamos estas listas para guardar los resultados que nos van entregando los modelos y así generar los gráficos de barra\n",
        "accuracy_scores = []\n",
        "precision_scores = []\n",
        "recall_scores = []"
      ],
      "metadata": {
        "id": "-QWe3bajTpzE"
      },
      "execution_count": 18,
      "outputs": []
    },
    {
      "cell_type": "code",
      "source": [
        "y_pred = model_gnb.predict(X_test)\n",
        "\n",
        "# Reporte de clasificación\n",
        "report = classification_report(y_test, y_pred)\n",
        "print(\"Reporte de Clasificación GaussianNB:\\n\")\n",
        "print(report)\n",
        "\n",
        "# Precisión y recall del reporte guardado en las variables precision_scores, recall_scores\n",
        "report1 = classification_report(y_test, y_pred, output_dict = True)\n",
        "precision = report1['weighted avg']['precision']\n",
        "recall = report1['weighted avg']['recall']\n",
        "\n",
        "precision_scores.append(precision)\n",
        "recall_scores.append(recall)\n",
        "\n",
        "# Calculo de la precisión del modelo\n",
        "accuracy = accuracy_score(y_test, y_pred)\n",
        "# Guardamos en la variable accuracy_scores\n",
        "accuracy_scores.append(accuracy)\n",
        "print(f\"La precisión del modelo es: {accuracy}\\n\")\n",
        "\n",
        "# Matriz de confusión\n",
        "plt.figure(figsize=(6, 4))\n",
        "sns.heatmap(confusion_matrix(y_test, y_pred), annot=True, fmt='g')\n",
        "plt.title(f\"Matriz de Confusión\")\n",
        "plt.show()"
      ],
      "metadata": {
        "colab": {
          "base_uri": "https://localhost:8080/",
          "height": 617
        },
        "id": "eOJpL0QYQdw5",
        "outputId": "22639127-38ff-4989-93f8-3ef506a36552"
      },
      "execution_count": 19,
      "outputs": [
        {
          "output_type": "stream",
          "name": "stdout",
          "text": [
            "Reporte de Clasificación GaussianNB:\n",
            "\n",
            "              precision    recall  f1-score   support\n",
            "\n",
            "         0.0       0.95      0.78      0.86     18418\n",
            "         1.0       0.59      0.89      0.71      6366\n",
            "\n",
            "    accuracy                           0.81     24784\n",
            "   macro avg       0.77      0.84      0.78     24784\n",
            "weighted avg       0.86      0.81      0.82     24784\n",
            "\n",
            "La precisión del modelo es: 0.8098369916074887\n",
            "\n"
          ]
        },
        {
          "output_type": "display_data",
          "data": {
            "text/plain": [
              "<Figure size 600x400 with 2 Axes>"
            ],
            "image/png": "[encoded data removed]"
          },
          "metadata": {}
        }
      ]
    },
    {
      "cell_type": "markdown",
      "source": [
        "### Métricas de Desempeño **(KNeighborsClassifier)**:"
      ],
      "metadata": {
        "id": "-e4YUhWhTXT1"
      }
    },
    {
      "cell_type": "code",
      "source": [
        "modelos = [modelo1, modelo2, modelo3, modelo4]\n",
        "nombres_modelos = ['KNN(Uniform, K = 3)', 'KNN(Distance, K= 3)', 'KNN (Uniform, K=5)', 'KNN (Distance, K=5)']\n",
        "\n",
        "for modelo, nombre in zip(modelos, nombres_modelos):\n",
        "    y_pred = modelo.predict(X_test)\n",
        "    # Reporte de clasificación de cada modelo\n",
        "    print(f\"Reporte de Clasificación para {nombre}:\\n\")\n",
        "    print(classification_report(y_test, y_pred))\n",
        "\n",
        "    # Precisión y recall del reporte guardado en las variables precision_scores, recall_scores\n",
        "    report1 = classification_report(y_test, y_pred, output_dict = True)\n",
        "    precision = report1['weighted avg']['precision']\n",
        "    recall = report1['weighted avg']['recall']\n",
        "\n",
        "    precision_scores.append(precision)\n",
        "    recall_scores.append(recall)\n",
        "\n",
        "    # Calculo de la precisión de cada modelo\n",
        "    accuracy = accuracy_score(y_test, y_pred)\n",
        "    # Guardamos en la variable accuracy_scores\n",
        "    accuracy_scores.append(accuracy)\n",
        "    print(f\"La precisión del modelo es: {accuracy}\\n\")\n",
        "\n",
        "\n",
        "    # Matriz de confusión\n",
        "    plt.figure(figsize=(6, 4))\n",
        "    sns.heatmap(confusion_matrix(y_test, y_pred), annot=True, fmt='g')\n",
        "    plt.title(f\"Matriz de Confusión ({nombre})\")\n",
        "    plt.show()\n"
      ],
      "metadata": {
        "colab": {
          "base_uri": "https://localhost:8080/",
          "height": 1000
        },
        "id": "K4iazEHsKxPZ",
        "outputId": "c9e920e5-12bc-4d2b-a897-531b4f614633"
      },
      "execution_count": 20,
      "outputs": [
        {
          "output_type": "stream",
          "name": "stdout",
          "text": [
            "Reporte de Clasificación para KNN(Uniform, K = 3):\n",
            "\n",
            "              precision    recall  f1-score   support\n",
            "\n",
            "         0.0       0.91      0.91      0.91     18418\n",
            "         1.0       0.75      0.75      0.75      6366\n",
            "\n",
            "    accuracy                           0.87     24784\n",
            "   macro avg       0.83      0.83      0.83     24784\n",
            "weighted avg       0.87      0.87      0.87     24784\n",
            "\n",
            "La precisión del modelo es: 0.8720948999354422\n",
            "\n"
          ]
        },
        {
          "output_type": "display_data",
          "data": {
            "text/plain": [
              "<Figure size 600x400 with 2 Axes>"
            ],
            "image/png": "[encoded data removed]"
          },
          "metadata": {}
        },
        {
          "output_type": "stream",
          "name": "stdout",
          "text": [
            "Reporte de Clasificación para KNN(Distance, K= 3):\n",
            "\n",
            "              precision    recall  f1-score   support\n",
            "\n",
            "         0.0       0.91      0.91      0.91     18418\n",
            "         1.0       0.75      0.75      0.75      6366\n",
            "\n",
            "    accuracy                           0.87     24784\n",
            "   macro avg       0.83      0.83      0.83     24784\n",
            "weighted avg       0.87      0.87      0.87     24784\n",
            "\n",
            "La precisión del modelo es: 0.8719335054874112\n",
            "\n"
          ]
        },
        {
          "output_type": "display_data",
          "data": {
            "text/plain": [
              "<Figure size 600x400 with 2 Axes>"
            ],
            "image/png": "[encoded data removed]"
          },
          "metadata": {}
        },
        {
          "output_type": "stream",
          "name": "stdout",
          "text": [
            "Reporte de Clasificación para KNN (Uniform, K=5):\n",
            "\n",
            "              precision    recall  f1-score   support\n",
            "\n",
            "         0.0       0.92      0.92      0.92     18418\n",
            "         1.0       0.76      0.77      0.77      6366\n",
            "\n",
            "    accuracy                           0.88     24784\n",
            "   macro avg       0.84      0.84      0.84     24784\n",
            "weighted avg       0.88      0.88      0.88     24784\n",
            "\n",
            "La precisión del modelo es: 0.8793979987088444\n",
            "\n"
          ]
        },
        {
          "output_type": "display_data",
          "data": {
            "text/plain": [
              "<Figure size 600x400 with 2 Axes>"
            ],
            "image/png": "[encoded data removed]"
          },
          "metadata": {}
        },
        {
          "output_type": "stream",
          "name": "stdout",
          "text": [
            "Reporte de Clasificación para KNN (Distance, K=5):\n",
            "\n",
            "              precision    recall  f1-score   support\n",
            "\n",
            "         0.0       0.92      0.92      0.92     18418\n",
            "         1.0       0.76      0.77      0.77      6366\n",
            "\n",
            "    accuracy                           0.88     24784\n",
            "   macro avg       0.84      0.84      0.84     24784\n",
            "weighted avg       0.88      0.88      0.88     24784\n",
            "\n",
            "La precisión del modelo es: 0.8793173014848289\n",
            "\n"
          ]
        },
        {
          "output_type": "display_data",
          "data": {
            "text/plain": [
              "<Figure size 600x400 with 2 Axes>"
            ],
            "image/png": "[encoded data removed]"
          },
          "metadata": {}
        }
      ]
    },
    {
      "cell_type": "code",
      "source": [
        "nombres_modelos = ['GaussianNB', 'KNN(Uniform, K = 3)', 'KNN(Distance, K= 3)', 'KNN (Uniform, K=5)', 'KNN (Distance, K=5)']\n",
        "\n",
        "# Creando el gráfico para Accuracy\n",
        "plt.figure(figsize=(10, 5))\n",
        "plt.bar(nombres_modelos, accuracy_scores, color='purple',edgecolor='black')\n",
        "plt.xlabel('Modelos')\n",
        "plt.ylabel('Accuracy')\n",
        "plt.title('Comparación de Accuracy')\n",
        "plt.ylim([0.8, 0.9])\n",
        "plt.show()\n",
        "\n",
        "# Creando el gráfico para Precisión\n",
        "plt.figure(figsize=(10, 5))\n",
        "plt.bar(nombres_modelos, precision_scores, color='darkgreen',edgecolor='black')\n",
        "plt.xlabel('Modelos')\n",
        "plt.ylabel('Precision')\n",
        "plt.title('Comparación de Precisión')\n",
        "plt.ylim([0.8, 0.9])\n",
        "plt.show()\n",
        "\n",
        "# Creando el gráfico para Recall\n",
        "plt.figure(figsize=(10, 5))\n",
        "plt.bar(nombres_modelos, recall_scores, color='cyan', edgecolor='black')\n",
        "plt.xlabel('Modelos')\n",
        "plt.ylabel('Recall')\n",
        "plt.title('Comparación de Recall')\n",
        "plt.ylim([0.8, 0.9])\n",
        "plt.show()\n"
      ],
      "metadata": {
        "colab": {
          "base_uri": "https://localhost:8080/",
          "height": 1000
        },
        "id": "qGpw4H1TPnzA",
        "outputId": "f497b3ca-a258-4af2-b42a-efd92088237e"
      },
      "execution_count": null,
      "outputs": [
        {
          "output_type": "display_data",
          "data": {
            "text/plain": [
              "<Figure size 1000x500 with 1 Axes>"
            ],
            "image/png": "[encoded data removed]"
          },
          "metadata": {}
        },
        {
          "output_type": "display_data",
          "data": {
            "text/plain": [
              "<Figure size 1000x500 with 1 Axes>"
            ],
            "image/png": "[encoded data removed]"
          },
          "metadata": {}
        },
        {
          "output_type": "display_data",
          "data": {
            "text/plain": [
              "<Figure size 1000x500 with 1 Axes>"
            ],
            "image/png": "[encoded data removed]"
          },
          "metadata": {}
        }
      ]
    },
    {
      "cell_type": "markdown",
      "metadata": {
        "id": "47_Yvyi6F6Br"
      },
      "source": [
        "## Parte 6: Implementación KNN desde cero\n",
        "En esta parte, se espera que implementes un clasificador KNN (k-Nearest Neighbors) desde cero. Deberás completar la implementación de la clase KNNClassifier que consta de los siguientes métodos:\n",
        "\n",
        "### Clase KNNClassifier:\n",
        "- Método __init__(self, k):\n",
        "    - Descripción: Inicializa un objeto de la clase KNNClassifier con un parámetro k que representa el número de vecinos más cercanos a considerar durante la clasificación.\n",
        "- Método fit(self, X_train, y_train):\n",
        "    - Descripción: Entrena el clasificador KNN con los datos de entrenamiento.\n",
        "    - Parámetros:\n",
        "        - X_train: numpy.ndarray, un arreglo de tamaño (n_samples, n_features) que contiene las características de entrenamiento.\n",
        "        - y_train: numpy.ndarray, un arreglo de tamaño (n_samples, 1) que contiene las etiquetas de clase correspondientes a los datos de entrenamiento.\n",
        "- Método predict(self, X_test):\n",
        "    - Descripción: Realiza predicciones sobre un conjunto de datos de prueba.\n",
        "    - Parámetros:\n",
        "        - X_test: numpy.ndarray, un arreglo de tamaño (n_samples, n_features) que contiene las características de prueba.\n",
        "    - Devuelve:\n",
        "        - predictions: Una lista de longitud n_samples que contiene las etiquetas predichas para cada instancia en X_test.\n",
        "        \n",
        "Para implementar este clasificador, deberás utilizar el algoritmo KNN para clasificación, el cual consiste en encontrar los k vecinos más cercanos a una instancia de prueba y asignarle la etiqueta más común entre esos vecinos.\n",
        "\n",
        "Recuerda utilizar las funciones y librerías proporcionadas en Python para operaciones matemáticas y manipulación de datos, como NumPy y Counter."
      ]
    },
    {
      "cell_type": "code",
      "execution_count": 12,
      "metadata": {
        "id": "HTQW2k_PF6Br"
      },
      "outputs": [],
      "source": [
        "from collections import Counter\n",
        "\n",
        "class KNNClassifier:\n",
        "    # Constructor de la clase KNNClassifier.\n",
        "    def __init__(self, k):\n",
        "      self.k = k\n",
        "      self.X_train = None\n",
        "      self.y_train = None\n",
        "\n",
        "    # Guardamos datos de entrenamiento\n",
        "    def fit(self, X_train, y_train):\n",
        "      # Aseguramos de convertirlos a Numpy array\n",
        "      self.X_train = np.array(X_train)\n",
        "      self.y_train = np.array(y_train)\n",
        "\n",
        "\n",
        "    def predict(self, X_test):\n",
        "      if isinstance(X_test, pd.DataFrame):\n",
        "        X_test = X_test.to_numpy()\n",
        "\n",
        "      predictions = []\n",
        "      for test_point in X_test:\n",
        "        distances = np.sqrt(np.sum((self.X_train - test_point) ** 2, axis=1)) # Distancia Euclidiana\n",
        "\n",
        "        # Votación por mayoría\n",
        "        k_neighbors_indices = np.argpartition(distances, self.k)[:self.k]\n",
        "\n",
        "        k_neighbors_labels = self.y_train[k_neighbors_indices]\n",
        "\n",
        "        vote = Counter(k_neighbors_labels).most_common(1)[0][0]\n",
        "\n",
        "        predictions.append(vote)\n",
        "      return predictions\n"
      ]
    },
    {
      "cell_type": "code",
      "source": [
        "KnnC = KNNClassifier(k=3)\n",
        "# Entrenar el modelo con los datos de entrenamiento;\n",
        "KnnC.fit(X_train, y_train)"
      ],
      "metadata": {
        "id": "OH0rtIk2Todj"
      },
      "execution_count": 16,
      "outputs": []
    },
    {
      "cell_type": "markdown",
      "metadata": {
        "id": "jhySHRu5F6Br"
      },
      "source": [
        "### Parte 6.1: Comparar Clasificadores KNN\n",
        "- Una vez haya entrenado y generado una predicción con su clasificador propio, evalue su desempeño de la misma forma que en la parte 5 y luego compare los resultados con su mejor clasificador KNN de la parte 4.2, analice sus resultados."
      ]
    },
    {
      "cell_type": "code",
      "source": [
        "y_pred = KnnC.predict(X_test)\n",
        "\n",
        "\n",
        "# Reporte de clasificación\n",
        "report = classification_report(y_test, y_pred)\n",
        "print(\"Reporte de Clasificación KNN desde cero:\\n\")\n",
        "print(report)\n",
        "\n",
        "# Calculo de la precisión del modelo\n",
        "accuracy = accuracy_score(y_test, y_pred)\n",
        "print(f\"La precisión del modelo es: {accuracy}\\n\")\n",
        "\n",
        "# Matriz de confusión\n",
        "plt.figure(figsize=(6, 4))\n",
        "sns.heatmap(confusion_matrix(y_test, y_pred), annot=True, fmt='g')\n",
        "plt.title(f\"Matriz de Confusión\")\n",
        "plt.show()\n",
        "\n"
      ],
      "metadata": {
        "colab": {
          "base_uri": "https://localhost:8080/",
          "height": 617
        },
        "id": "-OS0Pp1sVtUg",
        "outputId": "9498a41d-63bd-4c85-bcee-425435af83c8"
      },
      "execution_count": 52,
      "outputs": [
        {
          "output_type": "stream",
          "name": "stdout",
          "text": [
            "Reporte de Clasificación KNN desde cero:\n",
            "\n",
            "              precision    recall  f1-score   support\n",
            "\n",
            "         0.0       0.91      0.91      0.91     18418\n",
            "         1.0       0.75      0.75      0.75      6366\n",
            "\n",
            "    accuracy                           0.87     24784\n",
            "   macro avg       0.83      0.83      0.83     24784\n",
            "weighted avg       0.87      0.87      0.87     24784\n",
            "\n",
            "La precisión del modelo es: 0.8720948999354422\n",
            "\n"
          ]
        },
        {
          "output_type": "display_data",
          "data": {
            "text/plain": [
              "<Figure size 600x400 with 2 Axes>"
            ],
            "image/png": "[encoded data removed]"
          },
          "metadata": {}
        }
      ]
    },
    {
      "cell_type": "markdown",
      "source": [
        "### **Comparación entre Clasificadores KNN:**\n",
        "\n",
        "Para poder realizar el modelo KNN desde cero, se necesitó aprender como este está construido desde dentro, primero definimos la clase KNNClasifier, y empezamos con el constructor __init__ en donde especificamos el k, que sería el número de vecinos más cercanos. Luego en el método **fit** le entregamos los datasets de X_train e y_train(Convertimos estos datos en un array de Numpy para facilitar los cálculos siguientes). Como último método tenemos al **predict** que vendría a ser el corazón de esta clase, en este método definiremos el cálculo de las distancias, la búsqueda de los 'k' Vecinos más cercanos y una votación por mayoría de la libreria Counter que se nos recomienda utilizar, esto nos daría la etiqueta que más se repite para poder clasificarlo y guardarlo en la lista **predictions**.\n",
        "\n",
        "Podemos fijarnos que tanto en el **KNN realizado desde cero**, como el implementado por la libreria **Scikit-learn**, nos entregan resultados idénticos, por lo tanto podemos concluir que ambos funcionan de manera correcta.\n",
        "\n",
        "Ahora si comparamos en tema de eficiencia, el **KNN realizado desde cero** se demoró un tiempo aproximado de 10-15 minutos cuando el de **sk-learn** es casi inmediato no demorandose más de 10 segundos por modelo.\n",
        "\n",
        "Otro punto importante a comparar es la funcionalidad de estos clasificadores, en el **KNN realizado desde cero** solo tenemos implementado que encuentre al K Vecinos más cercanos y el de **sk-learn** en cambio posee un amplio margen de funcionalidades que en este trabajo solo se utilizó la de Weights(peso). Teniendo toda estos parámetros disponibles:\n",
        "\n",
        "\n",
        "\n",
        "```\n",
        "KNeighborsClassifier(n_neighbors=5, *, weights='uniform', algorithm='auto', leaf_size=30, p=2, metric='minkowski', metric_params=None, n_jobs=None)\n",
        "```\n",
        "\n",
        "En resumen, la implementación desde  cero nos puede dar resultados similares bajo ciertas condiciones más simples, la versión de sk-learn es claramente más robusta, eficiente y flexible."
      ],
      "metadata": {
        "id": "2lihRFwZ0baH"
      }
    },
    {
      "cell_type": "markdown",
      "metadata": {
        "id": "ZOpgLS_6xAFK"
      },
      "source": [
        "## Parte 7: Discusión y Conclusiones del trabajo\n",
        "\n",
        "En esta sección, debe seleccionar el mejor modelo para clasificación a partir de los resultados obtenidos en la sección anterior y justificar detalladamente su elección (Al ser un set de datos desbalanceados, guiese por Precision y Recall de cada modelo). Además, deben reflexionar sobre las dificultades que enfrentaron durante la tarea y las lecciones que aprendieron.\n",
        "Finalmente, debe agregar una seccion de referencias de su tarea.\n",
        "\n"
      ]
    },
    {
      "cell_type": "markdown",
      "source": [
        "### **Evaluación de modelos:**\n",
        "\n",
        "GaussianNB:\n",
        "\n",
        "```\n",
        "Precision: 0.59\n",
        "Recall: 0.89\n",
        "\n",
        "Accuracy: 0.80983\n",
        "```\n",
        "KNN(Uniform, K=3):\n",
        "\n",
        "```\n",
        "Precision: 0.75\n",
        "Recall: 0.75\n",
        "\n",
        "Accuracy: 0.87209\n",
        "```\n",
        "\n",
        "KNN(Distance, K=3):\n",
        "```\n",
        "Precision: 0.75\n",
        "Recall: 0.75\n",
        "\n",
        "Accuracy: 0.87193\n",
        "\n",
        "```\n",
        "KNN(Uniform, K=5):\n",
        "```\n",
        "Precision: 0.76\n",
        "Recall: 0.75\n",
        "\n",
        "Accuracy: 0.87939\n",
        "\n",
        "```\n",
        "KNN(Distance, K=5):\n",
        "```\n",
        "Precision: 0.76\n",
        "Recall: 0.75\n",
        "\n",
        "Accuracy: 0.87931\n",
        "\n",
        "```\n",
        "\n",
        "KNN implementado desde cero:\n",
        "```\n",
        "Precision: 0.75\n",
        "Recall: 0.75\n",
        "\n",
        "Accuracy: 0.87209\n",
        "\n",
        "```\n",
        "\n",
        "Realizando la tarea nos pudimos dar cuenta la importancia de llevar a cabo una limpieza de datos adecuada y lo necesario que es estandarizar los datos, ya que estos pueden presentar información muy desbalanceada, que en este caso podía afectar negativamente a los resultados del modelo GaussianNB, presentandose una dificultad por la sensibilidad de este modelo a la variación de los datos.\n",
        "\n",
        "Por otro lado, al momento de realizar los modelos de KNN se pudo encontrar una dificultad al escoger los Weights(pesos), más que nada por que no teniamos idea como funcionaba este valor. Por otro lado, teniamos la noción de la mejor forma de elegir los K que vendrían a ser los números impares.\n",
        "\n",
        "La **implementación del KNN desde cero**, nos presentó preocupación al momento de ejecutar la predicción, esto fue gracias al tiempo considerable de ejecución superando los 30 minutos que nos hacía retractarnos de que estaba bien elaborado el clasificador, por lo tanto, lo que más debiamos fijarnos era en el costo computacional para que el modelo funcionase en un tiempo razonable.\n",
        "\n",
        "Como se puede ver escogimos el 3 y el 5, cada uno de estos con un peso distinto. Gracias a esto pudimos notar que el **peso** con mayor influencia en la precisión de los datos fue el de **uniform** siendo en ambos números escogidos un mejor resultado. Viendolo de manera más general nos fijamos que al colocar un K impar mayor nos entregaba un mejor resultado al comparar sus métricas de Precision y Recall.\n",
        "\n",
        "Comparando ambos modelos podemos notar que KNN tiene una mayor capacidad para manejar el desbalance de los datos, dado que podemos ajustar los parámetros a nuestro gusto para mejorar el rendimiento de este mismo.\n",
        "\n",
        "Por ende, el modelo que nos entregó mejores resultados al momento de predecir correctamente, entre todas las predicciones realizadas fue **KNN(Uniform, K=5)** con una accuracy del **0.87939**.\n",
        "\n"
      ],
      "metadata": {
        "id": "hTbdhM7z6m2e"
      }
    },
    {
      "cell_type": "markdown",
      "metadata": {
        "id": "bFQ2Cw7kxWjO"
      },
      "source": [
        "## Referencias\n",
        "\n",
        "Hill, R. J., & Wilkerson, J. F. (2006). Understanding MiniBooNE Results. In G. Barbiellini, & G. Bonvicini (Eds.), Proceedings of the 41st Rencontres de Moriond on Electroweak Interactions and Unified Theories (pp. 311-315). Retrieved from https://www.slac.stanford.edu/econf/C060717/papers/T012.PDF\n",
        "\n"
      ]
    },
    {
      "cell_type": "markdown",
      "source": [
        "### DOCUMENTACIÓN UTILIZADA:\n",
        "- https://neo4j.com/docs/graph-data-science/current/algorithms/knn/?utm_source=Google&utm_medium=PaidSearch&utm_campaign=Evergreen&utm_content=AMS-Search-SEMCE-DSA-None-SEM-SEM-NonABM&utm_term=&utm_adgroup=DSA&gad_source=1&gclid=Cj0KCQjwxeyxBhC7ARIsAC7dS39LKkyWZ9WdFXYSysbFegq7ZqJuwWZv7JyGIaQKc4pDTxmMCVBjQboaAvX8EALw_wcB\n",
        "\n",
        "- https://scikit-learn.org/stable/modules/generated/sklearn.naive_bayes.GaussianNB.html\n",
        "\n",
        "- https://scikit-learn.org/stable/modules/generated/sklearn.neighbors.KNeighborsClassifier.html\n",
        "\n",
        "- https://medium.com/@lakshmiteja.ip/understanding-weighted-k-nearest-neighbors-k-nn-algorithm-3485001611ce\n",
        "\n",
        "- https://scikit-learn.org/stable/auto_examples/model_selection/plot_precision_recall.html\n",
        "\n",
        "- https://matplotlib.org/stable/api/_as_gen/matplotlib.pyplot.bar.html"
      ],
      "metadata": {
        "id": "e2_R4-XNJAlv"
      }
    }
  ],
  "metadata": {
    "colab": {
      "provenance": []
    },
    "kernelspec": {
      "display_name": "Python 3",
      "language": "python",
      "name": "python3"
    },
    "language_info": {
      "codemirror_mode": {
        "name": "ipython",
        "version": 3
      },
      "file_extension": ".py",
      "mimetype": "text/x-python",
      "name": "python",
      "nbconvert_exporter": "python",
      "pygments_lexer": "ipython3",
      "version": "3.7.11"
    }
  },
  "nbformat": 4,
  "nbformat_minor": 0
}